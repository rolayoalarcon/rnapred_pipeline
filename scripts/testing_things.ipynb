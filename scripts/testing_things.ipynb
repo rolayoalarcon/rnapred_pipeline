{
 "cells": [
  {
   "cell_type": "code",
   "execution_count": 1,
   "metadata": {},
   "outputs": [],
   "source": [
    "import pandas as pd"
   ]
  },
  {
   "cell_type": "code",
   "execution_count": 2,
   "metadata": {},
   "outputs": [],
   "source": [
    "input_file = \"../data/cjejuni_CJ81176/merged_features.tsv\"\n",
    "feature_col = \"type\"\n",
    "chromosome_name = \"NC_002163.1\""
   ]
  },
  {
   "cell_type": "code",
   "execution_count": 5,
   "metadata": {},
   "outputs": [
    {
     "data": {
      "text/plain": [
       "array(['CDS', 'rRNA', 'tRNA', 'misc_RNA', 'sRNA'], dtype=object)"
      ]
     },
     "execution_count": 5,
     "metadata": {},
     "output_type": "execute_result"
    }
   ],
   "source": [
    "features_df = pd.read_csv(input_file, sep='\\t')\n",
    "features_df[\"# feature\"].unique()"
   ]
  },
  {
   "cell_type": "code",
   "execution_count": 12,
   "metadata": {},
   "outputs": [
    {
     "name": "stderr",
     "output_type": "stream",
     "text": [
      "<ipython-input-12-5f62e8c9a5e1>:4: SettingWithCopyWarning: \n",
      "A value is trying to be set on a copy of a slice from a DataFrame.\n",
      "Try using .loc[row_indexer,col_indexer] = value instead\n",
      "\n",
      "See the caveats in the documentation: https://pandas.pydata.org/pandas-docs/stable/user_guide/indexing.html#returning-a-view-versus-a-copy\n",
      "  feat_df[\"chr\"] = chr_name\n",
      "<ipython-input-12-5f62e8c9a5e1>:5: SettingWithCopyWarning: \n",
      "A value is trying to be set on a copy of a slice from a DataFrame.\n",
      "Try using .loc[row_indexer,col_indexer] = value instead\n",
      "\n",
      "See the caveats in the documentation: https://pandas.pydata.org/pandas-docs/stable/user_guide/indexing.html#returning-a-view-versus-a-copy\n",
      "  feat_df[\"score\"] = 0\n"
     ]
    }
   ],
   "source": [
    "def make_bedfile(complete_df, feature_type, feat_column, chr_name):\n",
    "    feat_df = complete_df.loc[complete_df[feat_column] == feature_type]\n",
    "    \n",
    "    feat_df[\"chr\"] = chr_name\n",
    "    feat_df[\"score\"] = 0\n",
    "    \n",
    "    feat_df = feat_df[[\"chr\", \"start\", \"end\", \"locus_tag\", \"score\", \"strand\"]]\n",
    "    \n",
    "    return feat_df\n",
    "\n",
    "x = make_bedfile(features_df, \"sRNA\", \"type\", chromosome_name)\n",
    "x.to_csv(\"test.tsv\", sep='\\t', index=False, header=False)"
   ]
  },
  {
   "cell_type": "code",
   "execution_count": 19,
   "metadata": {},
   "outputs": [],
   "source": [
    "import pybedtools as pt\n",
    "import glob\n",
    "import os"
   ]
  },
  {
   "cell_type": "code",
   "execution_count": 15,
   "metadata": {},
   "outputs": [],
   "source": [
    "srna_bedtool = pt.BedTool(\"../data/cjejuni_NCTC_11168/bedfiles/sRNA.bed\")"
   ]
  },
  {
   "cell_type": "code",
   "execution_count": 16,
   "metadata": {},
   "outputs": [
    {
     "name": "stderr",
     "output_type": "stream",
     "text": [
      "/Users/rolayo/miniconda3/lib/python3.8/subprocess.py:849: RuntimeWarning: line buffering (buffering=1) isn't supported in binary mode, the default buffer size will be used\n",
      "  self.stderr = io.open(errread, 'rb', bufsize)\n",
      "index file ../data/cjejuni_NCTC_11168/GCF_000009085.1_ASM908v1_genomic.fna.fai not found, generating...\n"
     ]
    },
    {
     "data": {
      "text/plain": [
       "<BedTool(../data/cjejuni_NCTC_11168/bedfiles/sRNA.bed)>"
      ]
     },
     "execution_count": 16,
     "metadata": {},
     "output_type": "execute_result"
    }
   ],
   "source": [
    "srna_bedtool.sequence(fi=\"../data/cjejuni_NCTC_11168/GCF_000009085.1_ASM908v1_genomic.fna\",\n",
    "                      s=True, fo=\"test.fa\", nameOnly=True)"
   ]
  },
  {
   "cell_type": "code",
   "execution_count": 18,
   "metadata": {},
   "outputs": [
    {
     "name": "stdout",
     "output_type": "stream",
     "text": [
      "../data/cjejuni_NCTC_11168/bedfiles/sRNA.bed\n",
      "../data/cjejuni_NCTC_11168/bedfiles/misc_RNA.bed\n",
      "../data/cjejuni_NCTC_11168/bedfiles/tRNA.bed\n",
      "../data/cjejuni_NCTC_11168/bedfiles/5UTR.bed\n",
      "../data/cjejuni_NCTC_11168/bedfiles/protein_coding.bed\n",
      "../data/cjejuni_NCTC_11168/bedfiles/rRNA.bed\n"
     ]
    }
   ],
   "source": [
    "for file in glob.iglob(\"../data/cjejuni_NCTC_11168/bedfiles/*.bed\"):\n",
    "    print(file)"
   ]
  },
  {
   "cell_type": "code",
   "execution_count": 23,
   "metadata": {},
   "outputs": [
    {
     "data": {
      "text/plain": [
       "'misc_RNA'"
      ]
     },
     "execution_count": 23,
     "metadata": {},
     "output_type": "execute_result"
    }
   ],
   "source": [
    "f = \"/data/cjejuni_NCTC_11168/bedfiles/misc_RNA.bed\"\n",
    "os.path.basename(f).split(\".\")[0]"
   ]
  }
 ],
 "metadata": {
  "kernelspec": {
   "display_name": "Python 3",
   "language": "python",
   "name": "python3"
  },
  "language_info": {
   "codemirror_mode": {
    "name": "ipython",
    "version": 3
   },
   "file_extension": ".py",
   "mimetype": "text/x-python",
   "name": "python",
   "nbconvert_exporter": "python",
   "pygments_lexer": "ipython3",
   "version": "3.8.3"
  }
 },
 "nbformat": 4,
 "nbformat_minor": 4
}
